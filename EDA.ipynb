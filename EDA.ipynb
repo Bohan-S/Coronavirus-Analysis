{
 "cells": [
  {
   "cell_type": "markdown",
   "metadata": {},
   "source": [
    "# Exploratory data analysis\n",
    "<input type=\"checkbox\"> Import data <br>\n",
    "<input type=\"checkbox\"> Prepare data for further analysis <br>\n",
    "<input type=\"checkbox\"> Analyzing datasets <br>\n",
    "<input type=\"checkbox\"> Summarize the main characteristics <br>"
   ]
  },
  {
   "cell_type": "code",
   "execution_count": 1,
   "metadata": {
    "ExecuteTime": {
     "end_time": "2020-02-01T07:28:34.475798Z",
     "start_time": "2020-02-01T07:28:33.829952Z"
    }
   },
   "outputs": [],
   "source": [
    "import os,sys\n",
    "import numpy as np\n",
    "import pandas as pd\n",
    "import scipy\n",
    "import matplotlib.pyplot as plt\n",
    "import seaborn as sns\n",
    "import matplotlib.gridspec as gridspec\n",
    "sns.set()\n",
    "# sns.set(style=\"darkgrid\")\n",
    "plt.style.use('ggplot')"
   ]
  },
  {
   "cell_type": "markdown",
   "metadata": {},
   "source": [
    "## Import data from online source"
   ]
  },
  {
   "cell_type": "code",
   "execution_count": 2,
   "metadata": {
    "ExecuteTime": {
     "end_time": "2020-02-01T07:28:35.951226Z",
     "start_time": "2020-02-01T07:28:34.476768Z"
    }
   },
   "outputs": [],
   "source": [
    "data_temp = pd.read_html(\"https://docs.google.com/spreadsheets/d/1yZv9w9zRKwrGTaR-YzmAqMefw4wMlaXocejdxZaTs6w/htmlview?usp=sharing&sle=true#\",\n",
    "                   header=1,index_col=0)"
   ]
  },
  {
   "cell_type": "markdown",
   "metadata": {},
   "source": [
    "**There are multiple spreadsheets for each day. However, we can use the last update of the day as the data source for that particular date. Hence, a flitering is required.**"
   ]
  },
  {
   "cell_type": "markdown",
   "metadata": {},
   "source": [
    "### Check whether the current spreadsheet is dupilcate for that day. \n",
    "- Take the last update as the data source"
   ]
  },
  {
   "cell_type": "code",
   "execution_count": 3,
   "metadata": {
    "ExecuteTime": {
     "end_time": "2020-02-01T07:28:35.954142Z",
     "start_time": "2020-02-01T07:28:35.952118Z"
    }
   },
   "outputs": [],
   "source": [
    "date_exist = []"
   ]
  },
  {
   "cell_type": "code",
   "execution_count": 4,
   "metadata": {
    "ExecuteTime": {
     "end_time": "2020-02-01T07:28:35.983145Z",
     "start_time": "2020-02-01T07:28:35.957118Z"
    }
   },
   "outputs": [],
   "source": [
    "for sheet in data_temp:\n",
    "    temp = pd.DataFrame(sheet)\n",
    "    if temp.columns.values[2] != 'Last Update' : \n",
    "        temp = temp.rename(columns = {temp.columns.values[2]:'Last Update'})\n",
    "    if temp.columns.values[1] != 'Country' : \n",
    "        temp = temp.rename(columns = {temp.columns.values[1]:'Country'})\n",
    "    curr_date_sheet = pd.to_datetime(temp['Last Update'].unique()[0]).date()\n",
    "    if len(date_exist) < 1 :\n",
    "        data = temp\n",
    "        date_exist.append(curr_date_sheet)\n",
    "    elif (curr_date_sheet in date_exist) == False :\n",
    "        data = data.append(temp,sort=False)\n",
    "        date_exist.append(curr_date_sheet)"
   ]
  },
  {
   "cell_type": "code",
   "execution_count": 5,
   "metadata": {
    "ExecuteTime": {
     "end_time": "2020-02-01T07:28:35.987053Z",
     "start_time": "2020-02-01T07:28:35.985030Z"
    }
   },
   "outputs": [],
   "source": [
    "# date_exist"
   ]
  },
  {
   "cell_type": "markdown",
   "metadata": {},
   "source": [
    "### Adjust data properties and correct some typo errors"
   ]
  },
  {
   "cell_type": "code",
   "execution_count": 6,
   "metadata": {
    "ExecuteTime": {
     "end_time": "2020-02-01T07:28:36.062822Z",
     "start_time": "2020-02-01T07:28:35.988022Z"
    }
   },
   "outputs": [],
   "source": [
    "data.reset_index(drop=True)\n",
    "data['Last Update'] = data['Last Update'].apply(pd.to_datetime)"
   ]
  },
  {
   "cell_type": "code",
   "execution_count": 7,
   "metadata": {
    "ExecuteTime": {
     "end_time": "2020-02-01T07:28:36.074790Z",
     "start_time": "2020-02-01T07:28:36.063819Z"
    }
   },
   "outputs": [
    {
     "data": {
      "text/html": [
       "<div>\n",
       "<style scoped>\n",
       "    .dataframe tbody tr th:only-of-type {\n",
       "        vertical-align: middle;\n",
       "    }\n",
       "\n",
       "    .dataframe tbody tr th {\n",
       "        vertical-align: top;\n",
       "    }\n",
       "\n",
       "    .dataframe thead th {\n",
       "        text-align: right;\n",
       "    }\n",
       "</style>\n",
       "<table border=\"1\" class=\"dataframe\">\n",
       "  <thead>\n",
       "    <tr style=\"text-align: right;\">\n",
       "      <th></th>\n",
       "      <th>Province/State</th>\n",
       "      <th>Country</th>\n",
       "      <th>Last Update</th>\n",
       "      <th>Confirmed</th>\n",
       "      <th>Deaths</th>\n",
       "      <th>Recovered</th>\n",
       "      <th>Suspected</th>\n",
       "      <th>Demised</th>\n",
       "    </tr>\n",
       "    <tr>\n",
       "      <th>1</th>\n",
       "      <th></th>\n",
       "      <th></th>\n",
       "      <th></th>\n",
       "      <th></th>\n",
       "      <th></th>\n",
       "      <th></th>\n",
       "      <th></th>\n",
       "      <th></th>\n",
       "    </tr>\n",
       "  </thead>\n",
       "  <tbody>\n",
       "    <tr>\n",
       "      <th>2</th>\n",
       "      <td>Hubei</td>\n",
       "      <td>Mainland China</td>\n",
       "      <td>2020-01-31 19:00:00</td>\n",
       "      <td>7153.0</td>\n",
       "      <td>249.0</td>\n",
       "      <td>169.0</td>\n",
       "      <td>NaN</td>\n",
       "      <td>NaN</td>\n",
       "    </tr>\n",
       "    <tr>\n",
       "      <th>3</th>\n",
       "      <td>Zhejiang</td>\n",
       "      <td>Mainland China</td>\n",
       "      <td>2020-01-31 19:00:00</td>\n",
       "      <td>537.0</td>\n",
       "      <td>NaN</td>\n",
       "      <td>14.0</td>\n",
       "      <td>NaN</td>\n",
       "      <td>NaN</td>\n",
       "    </tr>\n",
       "    <tr>\n",
       "      <th>4</th>\n",
       "      <td>Guangdong</td>\n",
       "      <td>Mainland China</td>\n",
       "      <td>2020-01-31 19:00:00</td>\n",
       "      <td>436.0</td>\n",
       "      <td>NaN</td>\n",
       "      <td>10.0</td>\n",
       "      <td>NaN</td>\n",
       "      <td>NaN</td>\n",
       "    </tr>\n",
       "    <tr>\n",
       "      <th>5</th>\n",
       "      <td>Henan</td>\n",
       "      <td>Mainland China</td>\n",
       "      <td>2020-01-31 19:00:00</td>\n",
       "      <td>352.0</td>\n",
       "      <td>2.0</td>\n",
       "      <td>3.0</td>\n",
       "      <td>NaN</td>\n",
       "      <td>NaN</td>\n",
       "    </tr>\n",
       "    <tr>\n",
       "      <th>6</th>\n",
       "      <td>Hunan</td>\n",
       "      <td>Mainland China</td>\n",
       "      <td>2020-01-31 19:00:00</td>\n",
       "      <td>332.0</td>\n",
       "      <td>NaN</td>\n",
       "      <td>3.0</td>\n",
       "      <td>NaN</td>\n",
       "      <td>NaN</td>\n",
       "    </tr>\n",
       "  </tbody>\n",
       "</table>\n",
       "</div>"
      ],
      "text/plain": [
       "  Province/State         Country         Last Update  Confirmed  Deaths  \\\n",
       "1                                                                         \n",
       "2          Hubei  Mainland China 2020-01-31 19:00:00     7153.0   249.0   \n",
       "3       Zhejiang  Mainland China 2020-01-31 19:00:00      537.0     NaN   \n",
       "4      Guangdong  Mainland China 2020-01-31 19:00:00      436.0     NaN   \n",
       "5          Henan  Mainland China 2020-01-31 19:00:00      352.0     2.0   \n",
       "6          Hunan  Mainland China 2020-01-31 19:00:00      332.0     NaN   \n",
       "\n",
       "   Recovered  Suspected  Demised  \n",
       "1                                 \n",
       "2      169.0        NaN      NaN  \n",
       "3       14.0        NaN      NaN  \n",
       "4       10.0        NaN      NaN  \n",
       "5        3.0        NaN      NaN  \n",
       "6        3.0        NaN      NaN  "
      ]
     },
     "execution_count": 7,
     "metadata": {},
     "output_type": "execute_result"
    }
   ],
   "source": [
    "data.head()"
   ]
  },
  {
   "cell_type": "code",
   "execution_count": 8,
   "metadata": {
    "ExecuteTime": {
     "end_time": "2020-02-01T07:28:36.079776Z",
     "start_time": "2020-02-01T07:28:36.075787Z"
    }
   },
   "outputs": [
    {
     "data": {
      "text/plain": [
       "array(['Mainland China', 'Hong Kong', 'Taiwan', 'Macau', 'US', 'Japan',\n",
       "       'Thailand', 'South Korea', 'Singapore', 'Vietnam', 'France',\n",
       "       'Nepal', 'Malaysia', 'Canada', 'Cambodia', 'Sri Lanka',\n",
       "       'Australia', 'Germany', 'Finland', 'United Arab Emirates',\n",
       "       'Philippines', 'India', 'Italy', 'Sweden', 'Russia', 'Spain', 'UK',\n",
       "       'Ivory Coast', 'Mexico', 'Brazil', 'Colombia', 'China',\n",
       "       'United States'], dtype=object)"
      ]
     },
     "execution_count": 8,
     "metadata": {},
     "output_type": "execute_result"
    }
   ],
   "source": [
    "data['Country'].unique()"
   ]
  },
  {
   "cell_type": "code",
   "execution_count": 9,
   "metadata": {
    "ExecuteTime": {
     "end_time": "2020-02-01T07:28:36.089750Z",
     "start_time": "2020-02-01T07:28:36.079776Z"
    }
   },
   "outputs": [],
   "source": [
    "data[data['Country'] == 'Mainland China'] = 'China'\n",
    "data[data['Country'] == 'US'] = 'United States'"
   ]
  },
  {
   "cell_type": "code",
   "execution_count": 11,
   "metadata": {
    "ExecuteTime": {
     "end_time": "2020-02-01T07:28:40.993495Z",
     "start_time": "2020-02-01T07:28:40.988482Z"
    }
   },
   "outputs": [
    {
     "data": {
      "text/plain": [
       "array(['China', 'Hong Kong', 'Taiwan', 'Macau', 'United States', 'Japan',\n",
       "       'Thailand', 'South Korea', 'Singapore', 'Vietnam', 'France',\n",
       "       'Nepal', 'Malaysia', 'Canada', 'Cambodia', 'Sri Lanka',\n",
       "       'Australia', 'Germany', 'Finland', 'United Arab Emirates',\n",
       "       'Philippines', 'India', 'Italy', 'Sweden', 'Russia', 'Spain', 'UK',\n",
       "       'Ivory Coast', 'Mexico', 'Brazil', 'Colombia'], dtype=object)"
      ]
     },
     "execution_count": 11,
     "metadata": {},
     "output_type": "execute_result"
    }
   ],
   "source": [
    "data['Country'].unique()"
   ]
  },
  {
   "cell_type": "markdown",
   "metadata": {},
   "source": [
    "## EDA"
   ]
  },
  {
   "cell_type": "code",
   "execution_count": 14,
   "metadata": {
    "ExecuteTime": {
     "end_time": "2020-02-01T07:29:28.728807Z",
     "start_time": "2020-02-01T07:29:28.725845Z"
    }
   },
   "outputs": [],
   "source": [
    " confirmed_case_by_country = data.groupby('Country')['Confirmed']"
   ]
  },
  {
   "cell_type": "code",
   "execution_count": 15,
   "metadata": {
    "ExecuteTime": {
     "end_time": "2020-02-01T07:29:32.421048Z",
     "start_time": "2020-02-01T07:29:32.417058Z"
    }
   },
   "outputs": [
    {
     "data": {
      "text/plain": [
       "<pandas.core.groupby.groupby.SeriesGroupBy object at 0x000001F413A5AAC8>"
      ]
     },
     "execution_count": 15,
     "metadata": {},
     "output_type": "execute_result"
    }
   ],
   "source": [
    "confirmed_case_by_country"
   ]
  },
  {
   "cell_type": "code",
   "execution_count": null,
   "metadata": {},
   "outputs": [],
   "source": []
  }
 ],
 "metadata": {
  "hide_input": false,
  "kernelspec": {
   "display_name": "Python 3",
   "language": "python",
   "name": "python3"
  },
  "language_info": {
   "codemirror_mode": {
    "name": "ipython",
    "version": 3
   },
   "file_extension": ".py",
   "mimetype": "text/x-python",
   "name": "python",
   "nbconvert_exporter": "python",
   "pygments_lexer": "ipython3",
   "version": "3.7.1"
  },
  "latex_envs": {
   "LaTeX_envs_menu_present": true,
   "autoclose": false,
   "autocomplete": true,
   "bibliofile": "biblio.bib",
   "cite_by": "apalike",
   "current_citInitial": 1,
   "eqLabelWithNumbers": true,
   "eqNumInitial": 1,
   "hotkeys": {
    "equation": "Ctrl-E",
    "itemize": "Ctrl-I"
   },
   "labels_anchors": false,
   "latex_user_defs": false,
   "report_style_numbering": false,
   "user_envs_cfg": false
  },
  "toc": {
   "base_numbering": 1,
   "nav_menu": {},
   "number_sections": true,
   "sideBar": true,
   "skip_h1_title": true,
   "title_cell": "Table of Contents",
   "title_sidebar": "Contents",
   "toc_cell": false,
   "toc_position": {
    "height": "calc(100% - 180px)",
    "left": "10px",
    "top": "150px",
    "width": "165px"
   },
   "toc_section_display": true,
   "toc_window_display": true
  },
  "varInspector": {
   "cols": {
    "lenName": 16,
    "lenType": 16,
    "lenVar": 40
   },
   "kernels_config": {
    "python": {
     "delete_cmd_postfix": "",
     "delete_cmd_prefix": "del ",
     "library": "var_list.py",
     "varRefreshCmd": "print(var_dic_list())"
    },
    "r": {
     "delete_cmd_postfix": ") ",
     "delete_cmd_prefix": "rm(",
     "library": "var_list.r",
     "varRefreshCmd": "cat(var_dic_list()) "
    }
   },
   "types_to_exclude": [
    "module",
    "function",
    "builtin_function_or_method",
    "instance",
    "_Feature"
   ],
   "window_display": false
  }
 },
 "nbformat": 4,
 "nbformat_minor": 2
}
